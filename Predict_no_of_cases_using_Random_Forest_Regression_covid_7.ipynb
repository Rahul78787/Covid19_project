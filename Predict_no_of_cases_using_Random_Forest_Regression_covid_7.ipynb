{
 "cells": [
  {
   "cell_type": "code",
   "execution_count": 1,
   "metadata": {},
   "outputs": [],
   "source": [
    "import numpy as np\n",
    "import pandas as pd\n",
    "import matplotlib.pyplot as plt"
   ]
  },
  {
   "cell_type": "code",
   "execution_count": 2,
   "metadata": {},
   "outputs": [
    {
     "name": "stderr",
     "output_type": "stream",
     "text": [
      "C:\\Users\\Rahul Ozil Shah\\anaconda3\\lib\\site-packages\\IPython\\core\\interactiveshell.py:3071: DtypeWarning: Columns (3) have mixed types.Specify dtype option on import or set low_memory=False.\n",
      "  has_raised = await self.run_ast_nodes(code_ast.body, cell_name,\n"
     ]
    },
    {
     "data": {
      "text/html": [
       "<div>\n",
       "<style scoped>\n",
       "    .dataframe tbody tr th:only-of-type {\n",
       "        vertical-align: middle;\n",
       "    }\n",
       "\n",
       "    .dataframe tbody tr th {\n",
       "        vertical-align: top;\n",
       "    }\n",
       "\n",
       "    .dataframe thead th {\n",
       "        text-align: right;\n",
       "    }\n",
       "</style>\n",
       "<table border=\"1\" class=\"dataframe\">\n",
       "  <thead>\n",
       "    <tr style=\"text-align: right;\">\n",
       "      <th></th>\n",
       "      <th>Unnamed: 0</th>\n",
       "      <th>Num Cases</th>\n",
       "      <th>Date Announced</th>\n",
       "      <th>Age Bracket</th>\n",
       "      <th>Gender</th>\n",
       "      <th>Detected City</th>\n",
       "      <th>Detected District</th>\n",
       "      <th>Detected State</th>\n",
       "      <th>Current Status</th>\n",
       "      <th>Day</th>\n",
       "      <th>Month</th>\n",
       "      <th>year</th>\n",
       "    </tr>\n",
       "  </thead>\n",
       "  <tbody>\n",
       "    <tr>\n",
       "      <th>0</th>\n",
       "      <td>0</td>\n",
       "      <td>1.0</td>\n",
       "      <td>30/01/2020</td>\n",
       "      <td>20</td>\n",
       "      <td>F</td>\n",
       "      <td>Thrissur</td>\n",
       "      <td>Thrissur</td>\n",
       "      <td>Kerala</td>\n",
       "      <td>Recovered</td>\n",
       "      <td>30.0</td>\n",
       "      <td>1.0</td>\n",
       "      <td>2020.0</td>\n",
       "    </tr>\n",
       "    <tr>\n",
       "      <th>1</th>\n",
       "      <td>1</td>\n",
       "      <td>1.0</td>\n",
       "      <td>02/02/2020</td>\n",
       "      <td>NaN</td>\n",
       "      <td>NaN</td>\n",
       "      <td>Alappuzha</td>\n",
       "      <td>Alappuzha</td>\n",
       "      <td>Kerala</td>\n",
       "      <td>Recovered</td>\n",
       "      <td>2.0</td>\n",
       "      <td>2.0</td>\n",
       "      <td>2020.0</td>\n",
       "    </tr>\n",
       "    <tr>\n",
       "      <th>2</th>\n",
       "      <td>2</td>\n",
       "      <td>1.0</td>\n",
       "      <td>03/02/2020</td>\n",
       "      <td>NaN</td>\n",
       "      <td>NaN</td>\n",
       "      <td>Kasaragod</td>\n",
       "      <td>Kasaragod</td>\n",
       "      <td>Kerala</td>\n",
       "      <td>Recovered</td>\n",
       "      <td>3.0</td>\n",
       "      <td>2.0</td>\n",
       "      <td>2020.0</td>\n",
       "    </tr>\n",
       "    <tr>\n",
       "      <th>3</th>\n",
       "      <td>3</td>\n",
       "      <td>1.0</td>\n",
       "      <td>02/03/2020</td>\n",
       "      <td>45</td>\n",
       "      <td>M</td>\n",
       "      <td>East Delhi (Mayur Vihar)</td>\n",
       "      <td>East Delhi</td>\n",
       "      <td>Delhi</td>\n",
       "      <td>Recovered</td>\n",
       "      <td>2.0</td>\n",
       "      <td>3.0</td>\n",
       "      <td>2020.0</td>\n",
       "    </tr>\n",
       "    <tr>\n",
       "      <th>4</th>\n",
       "      <td>4</td>\n",
       "      <td>1.0</td>\n",
       "      <td>02/03/2020</td>\n",
       "      <td>24</td>\n",
       "      <td>M</td>\n",
       "      <td>Hyderabad</td>\n",
       "      <td>Hyderabad</td>\n",
       "      <td>Telangana</td>\n",
       "      <td>Recovered</td>\n",
       "      <td>2.0</td>\n",
       "      <td>3.0</td>\n",
       "      <td>2020.0</td>\n",
       "    </tr>\n",
       "    <tr>\n",
       "      <th>...</th>\n",
       "      <td>...</td>\n",
       "      <td>...</td>\n",
       "      <td>...</td>\n",
       "      <td>...</td>\n",
       "      <td>...</td>\n",
       "      <td>...</td>\n",
       "      <td>...</td>\n",
       "      <td>...</td>\n",
       "      <td>...</td>\n",
       "      <td>...</td>\n",
       "      <td>...</td>\n",
       "      <td>...</td>\n",
       "    </tr>\n",
       "    <tr>\n",
       "      <th>499503</th>\n",
       "      <td>25491</td>\n",
       "      <td>3.0</td>\n",
       "      <td>08/01/2021</td>\n",
       "      <td>NaN</td>\n",
       "      <td>NaN</td>\n",
       "      <td>NaN</td>\n",
       "      <td>Saraikela-Kharsawan</td>\n",
       "      <td>Jharkhand</td>\n",
       "      <td>Hospitalized</td>\n",
       "      <td>8.0</td>\n",
       "      <td>1.0</td>\n",
       "      <td>2021.0</td>\n",
       "    </tr>\n",
       "    <tr>\n",
       "      <th>499504</th>\n",
       "      <td>25492</td>\n",
       "      <td>2.0</td>\n",
       "      <td>08/01/2021</td>\n",
       "      <td>NaN</td>\n",
       "      <td>NaN</td>\n",
       "      <td>NaN</td>\n",
       "      <td>Saraikela-Kharsawan</td>\n",
       "      <td>Jharkhand</td>\n",
       "      <td>Recovered</td>\n",
       "      <td>8.0</td>\n",
       "      <td>1.0</td>\n",
       "      <td>2021.0</td>\n",
       "    </tr>\n",
       "    <tr>\n",
       "      <th>499505</th>\n",
       "      <td>25493</td>\n",
       "      <td>1.0</td>\n",
       "      <td>08/01/2021</td>\n",
       "      <td>NaN</td>\n",
       "      <td>NaN</td>\n",
       "      <td>NaN</td>\n",
       "      <td>Leh</td>\n",
       "      <td>Ladakh</td>\n",
       "      <td>Hospitalized</td>\n",
       "      <td>8.0</td>\n",
       "      <td>1.0</td>\n",
       "      <td>2021.0</td>\n",
       "    </tr>\n",
       "    <tr>\n",
       "      <th>499506</th>\n",
       "      <td>25494</td>\n",
       "      <td>11.0</td>\n",
       "      <td>08/01/2021</td>\n",
       "      <td>NaN</td>\n",
       "      <td>NaN</td>\n",
       "      <td>NaN</td>\n",
       "      <td>Leh</td>\n",
       "      <td>Ladakh</td>\n",
       "      <td>Recovered</td>\n",
       "      <td>8.0</td>\n",
       "      <td>1.0</td>\n",
       "      <td>2021.0</td>\n",
       "    </tr>\n",
       "    <tr>\n",
       "      <th>499507</th>\n",
       "      <td>25495</td>\n",
       "      <td>2.0</td>\n",
       "      <td>08/01/2021</td>\n",
       "      <td>NaN</td>\n",
       "      <td>NaN</td>\n",
       "      <td>NaN</td>\n",
       "      <td>Kargil</td>\n",
       "      <td>Ladakh</td>\n",
       "      <td>Recovered</td>\n",
       "      <td>8.0</td>\n",
       "      <td>1.0</td>\n",
       "      <td>2021.0</td>\n",
       "    </tr>\n",
       "  </tbody>\n",
       "</table>\n",
       "<p>499508 rows × 12 columns</p>\n",
       "</div>"
      ],
      "text/plain": [
       "        Unnamed: 0  Num Cases Date Announced Age Bracket Gender  \\\n",
       "0                0        1.0     30/01/2020          20      F   \n",
       "1                1        1.0     02/02/2020         NaN    NaN   \n",
       "2                2        1.0     03/02/2020         NaN    NaN   \n",
       "3                3        1.0     02/03/2020          45      M   \n",
       "4                4        1.0     02/03/2020          24      M   \n",
       "...            ...        ...            ...         ...    ...   \n",
       "499503       25491        3.0     08/01/2021         NaN    NaN   \n",
       "499504       25492        2.0     08/01/2021         NaN    NaN   \n",
       "499505       25493        1.0     08/01/2021         NaN    NaN   \n",
       "499506       25494       11.0     08/01/2021         NaN    NaN   \n",
       "499507       25495        2.0     08/01/2021         NaN    NaN   \n",
       "\n",
       "                   Detected City    Detected District Detected State  \\\n",
       "0                       Thrissur             Thrissur         Kerala   \n",
       "1                      Alappuzha            Alappuzha         Kerala   \n",
       "2                      Kasaragod            Kasaragod         Kerala   \n",
       "3       East Delhi (Mayur Vihar)           East Delhi          Delhi   \n",
       "4                      Hyderabad            Hyderabad      Telangana   \n",
       "...                          ...                  ...            ...   \n",
       "499503                       NaN  Saraikela-Kharsawan      Jharkhand   \n",
       "499504                       NaN  Saraikela-Kharsawan      Jharkhand   \n",
       "499505                       NaN                  Leh         Ladakh   \n",
       "499506                       NaN                  Leh         Ladakh   \n",
       "499507                       NaN               Kargil         Ladakh   \n",
       "\n",
       "       Current Status   Day  Month    year  \n",
       "0           Recovered  30.0    1.0  2020.0  \n",
       "1           Recovered   2.0    2.0  2020.0  \n",
       "2           Recovered   3.0    2.0  2020.0  \n",
       "3           Recovered   2.0    3.0  2020.0  \n",
       "4           Recovered   2.0    3.0  2020.0  \n",
       "...               ...   ...    ...     ...  \n",
       "499503   Hospitalized   8.0    1.0  2021.0  \n",
       "499504      Recovered   8.0    1.0  2021.0  \n",
       "499505   Hospitalized   8.0    1.0  2021.0  \n",
       "499506      Recovered   8.0    1.0  2021.0  \n",
       "499507      Recovered   8.0    1.0  2021.0  \n",
       "\n",
       "[499508 rows x 12 columns]"
      ]
     },
     "execution_count": 2,
     "metadata": {},
     "output_type": "execute_result"
    }
   ],
   "source": [
    "data=pd.read_csv('Covide19India.csv')\n",
    "data"
   ]
  },
  {
   "cell_type": "code",
   "execution_count": 3,
   "metadata": {},
   "outputs": [
    {
     "data": {
      "text/plain": [
       "Month  Day \n",
       "1.0    1.0     20159.0\n",
       "       2.0     18144.0\n",
       "       3.0     16678.0\n",
       "       4.0     16278.0\n",
       "       5.0     17909.0\n",
       "                ...   \n",
       "12.0   27.0    20333.0\n",
       "       28.0    16072.0\n",
       "       29.0    20542.0\n",
       "       30.0    21945.0\n",
       "       31.0    19026.0\n",
       "Name: Num Cases, Length: 309, dtype: float64"
      ]
     },
     "execution_count": 3,
     "metadata": {},
     "output_type": "execute_result"
    }
   ],
   "source": [
    "  Day=data[data['Current Status']=='Hospitalized'].groupby(['Month','Day'])['Num Cases'].sum()\n",
    "Day"
   ]
  },
  {
   "cell_type": "code",
   "execution_count": 4,
   "metadata": {},
   "outputs": [],
   "source": [
    "x=np.arange(len(Day))\n",
    "x=x.reshape(-1,1)\n",
    "y=Day.values"
   ]
  },
  {
   "cell_type": "code",
   "execution_count": 11,
   "metadata": {},
   "outputs": [
    {
     "data": {
      "text/plain": [
       "RandomForestRegressor(n_estimators=400)"
      ]
     },
     "execution_count": 11,
     "metadata": {},
     "output_type": "execute_result"
    }
   ],
   "source": [
    "from sklearn.ensemble import RandomForestRegressor\n",
    "reg=RandomForestRegressor(n_estimators=400)\n",
    "reg.fit(x,y)"
   ]
  },
  {
   "cell_type": "code",
   "execution_count": 12,
   "metadata": {},
   "outputs": [
    {
     "data": {
      "text/plain": [
       "99.80503566305424"
      ]
     },
     "execution_count": 12,
     "metadata": {},
     "output_type": "execute_result"
    }
   ],
   "source": [
    "reg.score(x,y)*100"
   ]
  },
  {
   "cell_type": "code",
   "execution_count": 14,
   "metadata": {},
   "outputs": [
    {
     "data": {
      "image/png": "[encoded data removed]",
      "text/plain": [
       "<Figure size 432x288 with 1 Axes>"
      ]
     },
     "metadata": {
      "needs_background": "light"
     },
     "output_type": "display_data"
    }
   ],
   "source": [
    "plt.scatter(x,y)\n",
    "plt.plot(x,reg.predict(x))\n",
    "plt.show()"
   ]
  },
  {
   "cell_type": "code",
   "execution_count": 17,
   "metadata": {},
   "outputs": [
    {
     "data": {
      "text/plain": [
       "array([19813.8125])"
      ]
     },
     "execution_count": 17,
     "metadata": {},
     "output_type": "execute_result"
    }
   ],
   "source": [
    "reg.predict([[352]])"
   ]
  },
  {
   "cell_type": "code",
   "execution_count": null,
   "metadata": {},
   "outputs": [],
   "source": []
  }
 ],
 "metadata": {
  "kernelspec": {
   "display_name": "Python 3",
   "language": "python",
   "name": "python3"
  },
  "language_info": {
   "codemirror_mode": {
    "name": "ipython",
    "version": 3
   },
   "file_extension": ".py",
   "mimetype": "text/x-python",
   "name": "python",
   "nbconvert_exporter": "python",
   "pygments_lexer": "ipython3",
   "version": "3.8.3"
  }
 },
 "nbformat": 4,
 "nbformat_minor": 4
}
